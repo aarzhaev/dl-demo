{
 "cells": [
  {
   "cell_type": "code",
   "execution_count": 1,
   "metadata": {},
   "outputs": [
    {
     "name": "stdout",
     "output_type": "stream",
     "text": [
      "WARNING:tensorflow:From c:\\users\\lk\\anaconda3\\lib\\site-packages\\tensorflow\\contrib\\learn\\python\\learn\\datasets\\base.py:198: retry (from tensorflow.contrib.learn.python.learn.datasets.base) is deprecated and will be removed in a future version.\n",
      "Instructions for updating:\n",
      "Use the retry module or similar alternatives.\n"
     ]
    }
   ],
   "source": [
    "import random\n",
    "import numpy as np\n",
    "import matplotlib\n",
    "import matplotlib.pyplot as plt\n",
    "\n",
    "import tensorflow as tf\n",
    "import tensorflow.contrib.eager as tfe\n",
    "\n",
    "import warnings\n",
    "warnings.simplefilter(\"ignore\", DeprecationWarning)"
   ]
  },
  {
   "cell_type": "code",
   "execution_count": 2,
   "metadata": {},
   "outputs": [],
   "source": [
    "tfe.enable_eager_execution()"
   ]
  },
  {
   "cell_type": "code",
   "execution_count": 3,
   "metadata": {},
   "outputs": [],
   "source": [
    "NUM_EPOCHES = 4 # ADJUST\n",
    "BATCH_SIZE = 64 # ADJUST\n",
    "LEARNING_RATE = 0.0001 # ADJUST"
   ]
  },
  {
   "cell_type": "code",
   "execution_count": 4,
   "metadata": {},
   "outputs": [
    {
     "name": "stdout",
     "output_type": "stream",
     "text": [
      "Train images shape: (60000, 28, 28, 1)\n",
      "Test images shape: (10000, 28, 28, 1)\n"
     ]
    }
   ],
   "source": [
    "train_data, test_data = tf.keras.datasets.mnist.load_data()\n",
    "train_images, train_labels = train_data\n",
    "test_images, test_labels = test_data\n",
    "\n",
    "train_images = train_images.reshape(-1, 28, 28, 1).astype(np.float32)/255\n",
    "test_images = test_images.reshape(-1, 28, 28, 1).astype(np.float32)/255\n",
    "\n",
    "train_labels = train_labels.astype(np.int32)\n",
    "test_labels = test_labels.astype(np.int32)\n",
    "\n",
    "print('Train images shape: {}'.format(train_images.shape))\n",
    "print('Test images shape: {}'.format(test_images.shape))"
   ]
  },
  {
   "cell_type": "code",
   "execution_count": 5,
   "metadata": {},
   "outputs": [
    {
     "data": {
      "image/png": "[encoded data removed]",
      "text/plain": [
       "<matplotlib.figure.Figure at 0x2f986b52198>"
      ]
     },
     "metadata": {},
     "output_type": "display_data"
    }
   ],
   "source": [
    "some_samples = train_images[:32, :, :, 0].transpose(1, 2, 0)\n",
    "\n",
    "fig = plt.figure(figsize=(10,6))\n",
    "for j in range(some_samples.shape[2]):\n",
    "    ax = fig.add_subplot(4, 8, j+1)\n",
    "    ax.imshow(some_samples[:,:,j], \n",
    "              cmap=matplotlib.cm.binary, interpolation='none')\n",
    "    plt.xticks(np.array([]))\n",
    "    plt.yticks(np.array([]))\n",
    "plt.show()"
   ]
  },
  {
   "cell_type": "code",
   "execution_count": 6,
   "metadata": {},
   "outputs": [],
   "source": [
    "train_ds = tf.data.Dataset.from_tensor_slices((train_images, train_labels))\n",
    "train_ds = train_ds.shuffle(60000).batch(BATCH_SIZE)"
   ]
  },
  {
   "cell_type": "code",
   "execution_count": 7,
   "metadata": {},
   "outputs": [],
   "source": [
    "class Model(tf.keras.Model):\n",
    "    \n",
    "    def __init__(self):\n",
    "        super(Model, self).__init__()\n",
    "        \n",
    "        self.conv1 = tf.layers.Conv2D(32, (5, 5), activation=tf.nn.relu,\n",
    "            padding='same',\n",
    "            bias_initializer=tf.constant_initializer(0.1),\n",
    "            kernel_initializer=tf.truncated_normal_initializer(stddev=0.1))\n",
    "        self.conv2 = tf.layers.Conv2D(64, (5, 5), activation=tf.nn.relu,\n",
    "            padding='same',\n",
    "            bias_initializer=tf.constant_initializer(0.1),\n",
    "            kernel_initializer=tf.truncated_normal_initializer(stddev=0.1))\n",
    "        self.fc1 = tf.layers.Dense(256, activation=tf.nn.relu,\n",
    "            bias_initializer=tf.constant_initializer(0.1),\n",
    "            kernel_initializer=tf.truncated_normal_initializer(stddev=0.1))\n",
    "        self.fc2 = tf.layers.Dense(10, activation=None,\n",
    "            bias_initializer=tf.constant_initializer(0.1),\n",
    "            kernel_initializer=tf.truncated_normal_initializer(stddev=0.1))\n",
    "        self.max_pool = tf.layers.MaxPooling2D((2, 2), (2, 2), padding='same')\n",
    "\n",
    "    def __call__(self, inp):\n",
    "        \n",
    "        out = self.conv1(inp)\n",
    "        out = self.max_pool(out)\n",
    "        out = self.conv2(out)\n",
    "        out = self.max_pool(out)\n",
    "        out = tf.layers.flatten(out)\n",
    "        out = self.fc1(out)\n",
    "        out = self.fc2(out)  \n",
    "        \n",
    "        return out\n",
    "    \n",
    "model = Model()"
   ]
  },
  {
   "cell_type": "code",
   "execution_count": 8,
   "metadata": {},
   "outputs": [],
   "source": [
    "def loss(logits, labels):\n",
    "    return tf.reduce_mean(tf.nn.sparse_softmax_cross_entropy_with_logits(\n",
    "        logits=logits, labels=labels))"
   ]
  },
  {
   "cell_type": "code",
   "execution_count": 9,
   "metadata": {},
   "outputs": [],
   "source": [
    "def accuracy(logits, labels):\n",
    "    predictions = tf.argmax(logits, axis=1, output_type=tf.int64)\n",
    "    labels = tf.cast(labels, tf.int64)\n",
    "    return tf.reduce_mean(tf.cast(tf.equal(predictions, labels), \n",
    "        dtype=tf.float32))"
   ]
  },
  {
   "cell_type": "code",
   "execution_count": 10,
   "metadata": {},
   "outputs": [],
   "source": [
    "# ADJUST\n",
    "# optimizer = tf.train.GradientDescentOptimizer(LEARNING_RATE)\n",
    "# LOG_DIR = 'logs/sgd/'\n",
    "optimizer = tf.train.AdamOptimizer(LEARNING_RATE)\n",
    "LOG_DIR = 'logs/adam/'"
   ]
  },
  {
   "cell_type": "code",
   "execution_count": 11,
   "metadata": {},
   "outputs": [],
   "source": [
    "writer = tf.contrib.summary.create_file_writer(LOG_DIR)\n",
    "global_step = tf.train.get_or_create_global_step()"
   ]
  },
  {
   "cell_type": "code",
   "execution_count": 12,
   "metadata": {},
   "outputs": [
    {
     "name": "stdout",
     "output_type": "stream",
     "text": [
      "[   1] Accuracy: 10.94 %\n",
      "[ 201] Accuracy: 92.58 %\n",
      "[ 401] Accuracy: 95.70 %\n",
      "[ 601] Accuracy: 98.05 %\n",
      "[ 801] Accuracy: 97.27 %\n",
      "[ 939] Accuracy: 98.44 %\n",
      "[1139] Accuracy: 99.22 %\n",
      "[1339] Accuracy: 98.05 %\n",
      "[1539] Accuracy: 98.83 %\n",
      "[1739] Accuracy: 99.22 %\n",
      "[1877] Accuracy: 99.22 %\n",
      "[2077] Accuracy: 99.22 %\n",
      "[2277] Accuracy: 99.61 %\n",
      "[2477] Accuracy: 99.61 %\n",
      "[2677] Accuracy: 99.22 %\n",
      "[2815] Accuracy: 99.61 %\n",
      "[3015] Accuracy: 99.22 %\n",
      "[3215] Accuracy: 99.61 %\n",
      "[3415] Accuracy: 99.22 %\n",
      "[3615] Accuracy: 99.61 %\n"
     ]
    }
   ],
   "source": [
    "with tf.device(\"/gpu:0\"):\n",
    "    for ep in range(NUM_EPOCHES):\n",
    "        for (it, (images, labels)) in enumerate(tfe.Iterator(train_ds)):\n",
    "\n",
    "            images = images.gpu()\n",
    "            labels = labels.gpu()\n",
    "\n",
    "            with tfe.GradientTape() as tape:\n",
    "                logits = model(images)\n",
    "                loss_value = loss(logits, labels)\n",
    "\n",
    "            grads = tape.gradient(loss_value, model.variables)\n",
    "            optimizer.apply_gradients(zip(grads, model.variables),\n",
    "                global_step=global_step)\n",
    "\n",
    "            if it % 200 == 0:\n",
    "                test_logits = model(test_images[:256])\n",
    "                accuracy_value = accuracy(test_logits, test_labels[:256])\n",
    "\n",
    "                print(\"[%4d] Accuracy: %5.2f %%\" % (\n",
    "                    global_step, accuracy_value.numpy()*100))\n",
    "                \n",
    "                with writer.as_default():\n",
    "                    with tf.contrib.summary.always_record_summaries():\n",
    "                        tf.contrib.summary.scalar('accuracy', accuracy_value)\n",
    "                        tf.contrib.summary.scalar('loss', loss_value)\n"
   ]
  },
  {
   "cell_type": "code",
   "execution_count": 13,
   "metadata": {
    "scrolled": true
   },
   "outputs": [
    {
     "name": "stdout",
     "output_type": "stream",
     "text": [
      "Final Accuracy: 98.15 %\n"
     ]
    }
   ],
   "source": [
    "with tf.device(\"/gpu:0\"):\n",
    "    test_logits = model(test_images)\n",
    "    accuracy_value = accuracy(test_logits, test_labels).numpy()\n",
    "print(\"Final Accuracy: %5.2f %%\" % (accuracy_value*100))"
   ]
  },
  {
   "cell_type": "code",
   "execution_count": 14,
   "metadata": {},
   "outputs": [],
   "source": [
    "def test_digit(sample):\n",
    "    \n",
    "    sample = sample[np.newaxis, ...]\n",
    "    with tf.device(\"/gpu:0\"):\n",
    "        logits = model(sample)\n",
    "    prediction = tf.nn.softmax(logits.cpu()).numpy()\n",
    "    ans = np.argmax(prediction)\n",
    "\n",
    "    fig = plt.figure(figsize=(12,4))\n",
    "\n",
    "    ax = fig.add_subplot(1, 2, 1)\n",
    "    ax.imshow(sample.reshape(28, 28), \n",
    "              cmap=matplotlib.cm.binary,interpolation ='none')\n",
    "    plt.xticks(np.array([]))\n",
    "    plt.yticks(np.array([]))\n",
    "\n",
    "    ax = fig.add_subplot(1, 2, 2)\n",
    "    bar_list = ax.bar(np.arange(10), prediction[0], align='center')\n",
    "    bar_list[ans].set_color('g')\n",
    "    ax.set_xticks(np.arange(10))\n",
    "    ax.set_xlim([-1, 10])\n",
    "    ax.grid('on')\n",
    "\n",
    "    plt.show()\n",
    "\n",
    "    print('Answer: {}'.format(ans))"
   ]
  },
  {
   "cell_type": "code",
   "execution_count": 15,
   "metadata": {},
   "outputs": [
    {
     "data": {
      "image/png": "[encoded data removed]",
      "text/plain": [
       "<matplotlib.figure.Figure at 0x2f98e2284e0>"
      ]
     },
     "metadata": {},
     "output_type": "display_data"
    },
    {
     "name": "stdout",
     "output_type": "stream",
     "text": [
      "Answer: 1\n"
     ]
    }
   ],
   "source": [
    "idx = random.randint(0, test_images.shape[0])\n",
    "sample = test_images[idx,:]\n",
    "test_digit(sample)"
   ]
  },
  {
   "cell_type": "code",
   "execution_count": 16,
   "metadata": {},
   "outputs": [
    {
     "name": "stdout",
     "output_type": "stream",
     "text": [
      "True Answer: 1\n"
     ]
    }
   ],
   "source": [
    "print('True Answer: {}'.format(test_labels[idx]))"
   ]
  },
  {
   "cell_type": "code",
   "execution_count": 17,
   "metadata": {},
   "outputs": [
    {
     "data": {
      "image/png": "[encoded data removed]",
      "text/plain": [
       "<matplotlib.figure.Figure at 0x2f9e7eaca58>"
      ]
     },
     "metadata": {},
     "output_type": "display_data"
    },
    {
     "name": "stdout",
     "output_type": "stream",
     "text": [
      "Answer: 3\n"
     ]
    }
   ],
   "source": [
    "import scipy.misc\n",
    "\n",
    "img = scipy.misc.imread('digit.png')\n",
    "img = scipy.misc.imresize(img, (28, 28), interp='lanczos')\n",
    "\n",
    "img = 1. - img.astype(np.float32)/255.\n",
    "img = np.mean(img, axis=2)\n",
    "img = np.reshape(img, (28, 28, 1))\n",
    "\n",
    "test_digit(img)"
   ]
  },
  {
   "cell_type": "code",
   "execution_count": null,
   "metadata": {},
   "outputs": [],
   "source": []
  },
  {
   "cell_type": "code",
   "execution_count": 18,
   "metadata": {},
   "outputs": [
    {
     "data": {
      "image/png": "[encoded data removed]",
      "text/plain": [
       "<matplotlib.figure.Figure at 0x2f9e7de19b0>"
      ]
     },
     "metadata": {},
     "output_type": "display_data"
    }
   ],
   "source": [
    "GITHUB_URL = 'https://github.com/dkorobchenko-nv/dl-demo'\n",
    "\n",
    "import qrcode\n",
    "fig = plt.figure(figsize=(4, 4))\n",
    "_=plt.imshow(qrcode.make(GITHUB_URL))"
   ]
  },
  {
   "cell_type": "code",
   "execution_count": null,
   "metadata": {},
   "outputs": [],
   "source": []
  }
 ],
 "metadata": {
  "anaconda-cloud": {},
  "kernelspec": {
   "display_name": "Python [default]",
   "language": "python",
   "name": "python3"
  },
  "language_info": {
   "codemirror_mode": {
    "name": "ipython",
    "version": 3
   },
   "file_extension": ".py",
   "mimetype": "text/x-python",
   "name": "python",
   "nbconvert_exporter": "python",
   "pygments_lexer": "ipython3",
   "version": "3.5.2"
  }
 },
 "nbformat": 4,
 "nbformat_minor": 1
}
